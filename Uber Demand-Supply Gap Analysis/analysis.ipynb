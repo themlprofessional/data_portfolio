{
 "cells": [
  {
   "attachments": {},
   "cell_type": "markdown",
   "metadata": {},
   "source": [
    "### Step 1: Loading the dataset"
   ]
  },
  {
   "cell_type": "code",
   "execution_count": 4,
   "metadata": {},
   "outputs": [],
   "source": [
    "#1. Loading the dataset\n",
    "import pandas as pd\n",
    "uber_request_data = pd.read_csv(\"Uber Request Data.csv\")"
   ]
  },
  {
   "cell_type": "code",
   "execution_count": 2,
   "metadata": {},
   "outputs": [
    {
     "name": "stdout",
     "output_type": "stream",
     "text": [
      "<class 'pandas.core.frame.DataFrame'>\n",
      "RangeIndex: 6745 entries, 0 to 6744\n",
      "Data columns (total 6 columns):\n",
      " #   Column             Non-Null Count  Dtype  \n",
      "---  ------             --------------  -----  \n",
      " 0   Request id         6745 non-null   int64  \n",
      " 1   Pickup point       6745 non-null   object \n",
      " 2   Driver id          4095 non-null   float64\n",
      " 3   Status             6745 non-null   object \n",
      " 4   Request timestamp  6745 non-null   object \n",
      " 5   Drop timestamp     2831 non-null   object \n",
      "dtypes: float64(1), int64(1), object(4)\n",
      "memory usage: 316.3+ KB\n",
      "None\n"
     ]
    }
   ],
   "source": [
    "#2. Checking for the structure of dataset\n",
    "print(uber_request_data.info())"
   ]
  },
  {
   "attachments": {},
   "cell_type": "markdown",
   "metadata": {},
   "source": [
    "As in the result above, Request id and Driver id is of numeric type whereas Pickup point, Status, Request timestamp and Drop timestamp are all of string type. From this it is clearly visible that both the timestamps are not in proper format of date datatype."
   ]
  },
  {
   "cell_type": "code",
   "execution_count": 5,
   "metadata": {},
   "outputs": [
    {
     "name": "stdout",
     "output_type": "stream",
     "text": [
      "   Request id Pickup point  Driver id          Status    Request timestamp  \\\n",
      "0         619      Airport        1.0  Trip Completed      11/7/2016 11:51   \n",
      "1         867      Airport        1.0  Trip Completed      11/7/2016 17:57   \n",
      "2        1807         City        1.0  Trip Completed       12/7/2016 9:17   \n",
      "3        2532      Airport        1.0  Trip Completed      12/7/2016 21:08   \n",
      "4        3112         City        1.0  Trip Completed  13-07-2016 08:33:16   \n",
      "\n",
      "        Drop timestamp  \n",
      "0      11/7/2016 13:00  \n",
      "1      11/7/2016 18:47  \n",
      "2       12/7/2016 9:58  \n",
      "3      12/7/2016 22:03  \n",
      "4  13-07-2016 09:25:47  \n"
     ]
    }
   ],
   "source": [
    "#3. Viewing the dataset\n",
    "print(uber_request_data.head())"
   ]
  },
  {
   "attachments": {},
   "cell_type": "markdown",
   "metadata": {},
   "source": [
    "### Step 2: Data Cleaning"
   ]
  },
  {
   "cell_type": "code",
   "execution_count": 6,
   "metadata": {},
   "outputs": [
    {
     "name": "stdout",
     "output_type": "stream",
     "text": [
      "Request id              0\n",
      "Pickup point            0\n",
      "Driver id            2650\n",
      "Status                  0\n",
      "Request timestamp       0\n",
      "Drop timestamp       3914\n",
      "dtype: int64\n"
     ]
    }
   ],
   "source": [
    "#1. Checking for NA Values in the given data.\n",
    "print(uber_request_data.isna().sum())"
   ]
  },
  {
   "cell_type": "code",
   "execution_count": 8,
   "metadata": {},
   "outputs": [
    {
     "name": "stdout",
     "output_type": "stream",
     "text": [
      "0\n",
      "0\n",
      "2650\n",
      "0\n",
      "0\n",
      "3914\n"
     ]
    }
   ],
   "source": [
    "# There are some NA values in the dataset, so looking at each column of the dataset.\n",
    "print(uber_request_data[\"Request id\"].isna().sum())\n",
    "print(uber_request_data[\"Pickup point\"].isna().sum())\n",
    "print(uber_request_data[\"Driver id\"].isna().sum())\n",
    "print(uber_request_data[\"Status\"].isna().sum())\n",
    "print(uber_request_data[\"Request timestamp\"].isna().sum())\n",
    "print(uber_request_data[\"Drop timestamp\"].isna().sum())\n",
    "# there are 0 NA Values in Request.id, Pickup.point, Status and Request.timestamp\n",
    "# there are 2650 NA values in Driver.id and Drop.timestamp"
   ]
  },
  {
   "cell_type": "code",
   "execution_count": 10,
   "metadata": {},
   "outputs": [
    {
     "name": "stdout",
     "output_type": "stream",
     "text": [
      "False\n"
     ]
    }
   ],
   "source": [
    "#2. Checking for Duplicates\n",
    "print(any(uber_request_data[\"Request id\"].duplicated()))"
   ]
  },
  {
   "cell_type": "code",
   "execution_count": 19,
   "metadata": {},
   "outputs": [
    {
     "name": "stderr",
     "output_type": "stream",
     "text": [
      "c:\\Users\\blitz\\AppData\\Local\\Programs\\Python\\Python311\\Lib\\site-packages\\pandas\\core\\internals\\blocks.py:2323: RuntimeWarning: invalid value encountered in cast\n",
      "  values = values.astype(str)\n"
     ]
    }
   ],
   "source": [
    "#3. Checking if the dataset is of proper format and converting it to right format\n",
    "\n",
    "# In Uber Request Data.csv file the columns Request timestamp,Drop timestamp have both \"/\" and \"-\"\n",
    "# So putting them both in just one format by replacing \"-\" with a \"/\"\n",
    "\n",
    "import pandas as pd\n",
    "\n",
    "# Read the csv file\n",
    "df = pd.read_csv(\"Uber Request Data.csv\")\n",
    "\n",
    "# Replace \"-\" with \"/\"\n",
    "df[\"Request timestamp\"] = df[\"Request timestamp\"].str.replace(\"-\", \"/\")\n",
    "df[\"Drop timestamp\"] = df[\"Drop timestamp\"].str.replace(\"-\", \"/\")\n",
    "\n",
    "df.to_csv(\"Uber Request Data final.csv\", index=False, na_rep=\"NA\")"
   ]
  }
 ],
 "metadata": {
  "kernelspec": {
   "display_name": "Python 3",
   "language": "python",
   "name": "python3"
  },
  "language_info": {
   "codemirror_mode": {
    "name": "ipython",
    "version": 3
   },
   "file_extension": ".py",
   "mimetype": "text/x-python",
   "name": "python",
   "nbconvert_exporter": "python",
   "pygments_lexer": "ipython3",
   "version": "3.11.1"
  },
  "orig_nbformat": 4,
  "vscode": {
   "interpreter": {
    "hash": "db322657bbdd2df3c2fa6219dff63435f9249f7876146f2f8325f01eacec9d12"
   }
  }
 },
 "nbformat": 4,
 "nbformat_minor": 2
}
